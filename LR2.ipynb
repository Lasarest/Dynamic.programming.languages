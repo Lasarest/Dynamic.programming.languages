{
 "cells": [
  {
   "cell_type": "markdown",
   "id": "0cf84b37",
   "metadata": {},
   "source": [
    "## Метод опорных векторов\n",
    "### Лабораторная работа №2\n",
    "\n",
    "#### Задание 1\n",
    "Провести классификацию найденного датасета, методом машины опорных векторов. В формате Markdown писать пояснения. Объяснить почему были выбраны именно такие гиперпараметры, была ли перекрестная проверка, и т.д.\n",
    "\n",
    "Гиперпараметры:\n",
    "\n",
    "C: Определяет силу регуляризации в модели SVM.\n",
    "gamma: Определяет влияние одного тренировочного примера на другие.\n",
    "kernel: Определяет тип использованного ядра."
   ]
  },
  {
   "cell_type": "code",
   "execution_count": 1,
   "id": "3d46990c",
   "metadata": {},
   "outputs": [
    {
     "name": "stdout",
     "output_type": "stream",
     "text": [
      "Лучшие гиперпараметры: {'C': 1, 'gamma': 1, 'kernel': 'rbf'}\n",
      "Точность модели: 0.984\n",
      "Отчет о классификации:\n",
      "              precision    recall  f1-score   support\n",
      "\n",
      "           0       0.98      1.00      0.99      1600\n",
      "           1       0.98      0.94      0.96       400\n",
      "\n",
      "    accuracy                           0.98      2000\n",
      "   macro avg       0.98      0.97      0.97      2000\n",
      "weighted avg       0.98      0.98      0.98      2000\n",
      "\n"
     ]
    }
   ],
   "source": [
    "from sklearn.model_selection import train_test_split, GridSearchCV\n",
    "from sklearn.svm import SVC\n",
    "from sklearn.preprocessing import StandardScaler, LabelEncoder\n",
    "from sklearn.metrics import accuracy_score, classification_report\n",
    "from tqdm import tqdm\n",
    "import pandas as pd\n",
    "\n",
    "file_path = \"Electric_Vehicle_Population_Data.csv\"\n",
    "df = pd.read_csv(file_path)\n",
    "df.dropna(inplace=True)\n",
    "# Преобразование категориальной переменной в числовой формат\n",
    "label_encoder = LabelEncoder()\n",
    "df['Electric Vehicle Type'] = label_encoder.fit_transform(df['Electric Vehicle Type'])\n",
    "\n",
    "# Разделение на признаки (X) и целевую переменную (y)\n",
    "X = df[['Postal Code', 'Model Year', 'Electric Range', 'Base MSRP', 'Legislative District', 'DOL Vehicle ID', '2020 Census Tract']][0:10000]\n",
    "y = df['Electric Vehicle Type'][0:10000]\n",
    "\n",
    "# Разделение данных на тренировочный и тестовый наборы\n",
    "X_train, X_test, y_train, y_test = train_test_split(X, y, test_size=0.2, random_state=42)\n",
    "\n",
    "# Масштабирование признаков (нормализация)\n",
    "scaler = StandardScaler()\n",
    "X_train_scaled = scaler.fit_transform(X_train)\n",
    "X_test_scaled = scaler.transform(X_test)\n",
    "\n",
    "param_grid = {'C': [0.01, 0.1, 1], 'kernel': ['linear', 'rbf', 'sigmoid'], 'gamma': [0.1, 1, 10]}\n",
    "# Подбор гиперпараметров с помощью перекрестной проверки\n",
    "grid = GridSearchCV(SVC(), param_grid, refit=True, verbose=0)\n",
    "grid.fit(X_train_scaled, y_train)\n",
    "\n",
    "best_params = grid.best_params_\n",
    "best_score = grid.best_score_\n",
    "print(\"Лучшие гиперпараметры:\", grid.best_params_)\n",
    "best_svc = grid.best_estimator_\n",
    "y_pred = best_svc.predict(X_test_scaled)\n",
    "accuracy = accuracy_score(y_test, y_pred)\n",
    "print(f\"Точность модели: {accuracy}\")\n",
    "\n",
    "# Получение отчета о классификации с предупреждениями\n",
    "report = classification_report(y_test, y_pred, zero_division=1)\n",
    "print(f'Отчет о классификации:\\n{report}')"
   ]
  }
 ],
 "metadata": {
  "kernelspec": {
   "display_name": "Python 3 (ipykernel)",
   "language": "python",
   "name": "python3"
  },
  "language_info": {
   "codemirror_mode": {
    "name": "ipython",
    "version": 3
   },
   "file_extension": ".py",
   "mimetype": "text/x-python",
   "name": "python",
   "nbconvert_exporter": "python",
   "pygments_lexer": "ipython3",
   "version": "3.10.12"
  }
 },
 "nbformat": 4,
 "nbformat_minor": 5
}
