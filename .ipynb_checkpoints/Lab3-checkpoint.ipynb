{
 "cells": [
  {
   "cell_type": "markdown",
   "id": "8cab54f9",
   "metadata": {},
   "source": [
    "## Методы линеной и логистической регрессий\n",
    "\n",
    "### Лабораторная работа №3\n",
    "\n",
    "#### Задание 1\n",
    "Провести классификацию найденного датасета, методами линеной и логистической регрессий . В формате Markdown написать пояснения. Объяснить почему были выбраны именно такие гиперпараметры, была ли перекрестная проверка, и т.д."
   ]
  },
  {
   "cell_type": "code",
   "execution_count": 1,
   "id": "a1498c21",
   "metadata": {},
   "outputs": [
    {
     "name": "stderr",
     "output_type": "stream",
     "text": [
      "/usr/lib/python3/dist-packages/scipy/__init__.py:146: UserWarning: A NumPy version >=1.17.3 and <1.25.0 is required for this version of SciPy (detected version 1.26.2\n",
      "  warnings.warn(f\"A NumPy version >={np_minversion} and <{np_maxversion}\"\n"
     ]
    }
   ],
   "source": [
    "from sklearn.model_selection import train_test_split, GridSearchCV\n",
    "from sklearn.linear_model import LogisticRegression\n",
    "from sklearn.linear_model import LinearRegression\n",
    "from sklearn.preprocessing import StandardScaler\n",
    "from sklearn.metrics import accuracy_score, classification_report\n",
    "import pandas as pd\n",
    "\n",
    "# Загрузка данных\n",
    "file_path = \"../Electric_Vehicle_Population_Data.csv\"\n",
    "df = pd.read_csv(file_path)\n",
    "df.dropna(inplace=True)\n",
    "# Разделение на признаки (X) и целевую переменную (y)\n",
    "X = df[['Postal Code', 'Model Year', 'Electric Range', 'Base MSRP', 'Legislative District', 'DOL Vehicle ID', '2020 Census Tract']][0:10000]\n",
    "y = df['Electric Range'][0:10000]\n",
    "# Разделение данных на тренировочный и тестовый наборы\n",
    "# random_state=42 - гарантирует, что данные каждый раз будут одинакого разбиваться\n",
    "X_train, X_test, y_train, y_test = train_test_split(X, y, test_size=0.2, random_state=42)\n",
    "\n",
    "# Масштабирование признаков (нормализация)\n",
    "scaler = StandardScaler()\n",
    "X_train_scaled = scaler.fit_transform(X_train)\n",
    "X_test_scaled = scaler.transform(X_test)\n",
    "linear_model = LinearRegression()\n",
    "linear_model.fit(X_train_scaled, y_train)\n",
    "linear_accuracy = linear_model.score(X_test_scaled, y_test)"
   ]
  },
  {
   "cell_type": "markdown",
   "id": "4bc33d88",
   "metadata": {},
   "source": [
    "Гиперпараметры:\n",
    "   - C: обратная сила регуляризации. Меньшие значения C указывают на более сильную регуляризацию.\n",
    "   - penalty: задает тип регуляризации (например, L1 или L2).\n",
    "   - solver: алгоритм, используемый для оптимизации весов (например, 'liblinear', 'saga', 'lbfgs' и другие)."
   ]
  },
  {
   "cell_type": "code",
   "execution_count": 2,
   "id": "f168f88a",
   "metadata": {},
   "outputs": [],
   "source": [
    "param_grid = {\n",
    "    'C': [0.01, 0.1, 1, 10],\n",
    "    'penalty': ['l1', 'l2'],\n",
    "    'solver': ['liblinear', 'saga', 'lbfgs']\n",
    "}"
   ]
  },
  {
   "cell_type": "markdown",
   "id": "cb15a8c0",
   "metadata": {},
   "source": [
    "Перекрестная проверка гиперпараметров"
   ]
  },
  {
   "cell_type": "code",
   "execution_count": 3,
   "id": "ec3ac7a2",
   "metadata": {},
   "outputs": [
    {
     "name": "stdout",
     "output_type": "stream",
     "text": [
      "Fitting 5 folds for each of 24 candidates, totalling 120 fits\n"
     ]
    },
    {
     "name": "stderr",
     "output_type": "stream",
     "text": [
      "/home/marcus/.local/lib/python3.10/site-packages/sklearn/model_selection/_split.py:737: UserWarning: The least populated class in y has only 1 members, which is less than n_splits=5.\n",
      "  warnings.warn(\n"
     ]
    },
    {
     "name": "stdout",
     "output_type": "stream",
     "text": [
      "[CV 1/5] END C=0.01, penalty=l1, solver=liblinear;, score=0.563 total time=   0.3s\n",
      "[CV 2/5] END C=0.01, penalty=l1, solver=liblinear;, score=0.566 total time=   0.3s\n",
      "[CV 3/5] END C=0.01, penalty=l1, solver=liblinear;, score=0.562 total time=   0.2s\n",
      "[CV 4/5] END C=0.01, penalty=l1, solver=liblinear;, score=0.562 total time=   0.2s\n",
      "[CV 5/5] END C=0.01, penalty=l1, solver=liblinear;, score=0.566 total time=   0.3s\n",
      "[CV 1/5] END ...C=0.01, penalty=l1, solver=saga;, score=0.562 total time=   2.3s\n",
      "[CV 2/5] END ...C=0.01, penalty=l1, solver=saga;, score=0.565 total time=   2.3s\n",
      "[CV 3/5] END ...C=0.01, penalty=l1, solver=saga;, score=0.561 total time=   2.3s\n",
      "[CV 4/5] END ...C=0.01, penalty=l1, solver=saga;, score=0.562 total time=   2.3s\n",
      "[CV 5/5] END ...C=0.01, penalty=l1, solver=saga;, score=0.565 total time=   2.2s\n",
      "[CV 1/5] END ....C=0.01, penalty=l1, solver=lbfgs;, score=nan total time=   0.0s\n",
      "[CV 2/5] END ....C=0.01, penalty=l1, solver=lbfgs;, score=nan total time=   0.0s\n",
      "[CV 3/5] END ....C=0.01, penalty=l1, solver=lbfgs;, score=nan total time=   0.0s\n",
      "[CV 4/5] END ....C=0.01, penalty=l1, solver=lbfgs;, score=nan total time=   0.0s\n",
      "[CV 5/5] END ....C=0.01, penalty=l1, solver=lbfgs;, score=nan total time=   0.0s\n",
      "[CV 1/5] END C=0.01, penalty=l2, solver=liblinear;, score=0.564 total time=   0.4s\n",
      "[CV 2/5] END C=0.01, penalty=l2, solver=liblinear;, score=0.568 total time=   0.4s\n",
      "[CV 3/5] END C=0.01, penalty=l2, solver=liblinear;, score=0.566 total time=   0.3s\n",
      "[CV 4/5] END C=0.01, penalty=l2, solver=liblinear;, score=0.565 total time=   0.4s\n",
      "[CV 5/5] END C=0.01, penalty=l2, solver=liblinear;, score=0.568 total time=   0.4s\n",
      "[CV 1/5] END ...C=0.01, penalty=l2, solver=saga;, score=0.564 total time=   1.7s\n",
      "[CV 2/5] END ...C=0.01, penalty=l2, solver=saga;, score=0.572 total time=   1.6s\n",
      "[CV 3/5] END ...C=0.01, penalty=l2, solver=saga;, score=0.568 total time=   1.6s\n",
      "[CV 4/5] END ...C=0.01, penalty=l2, solver=saga;, score=0.564 total time=   1.6s\n",
      "[CV 5/5] END ...C=0.01, penalty=l2, solver=saga;, score=0.571 total time=   1.6s\n",
      "[CV 1/5] END ..C=0.01, penalty=l2, solver=lbfgs;, score=0.564 total time=   2.4s\n",
      "[CV 2/5] END ..C=0.01, penalty=l2, solver=lbfgs;, score=0.572 total time=   2.0s\n",
      "[CV 3/5] END ..C=0.01, penalty=l2, solver=lbfgs;, score=0.568 total time=   2.2s\n",
      "[CV 4/5] END ..C=0.01, penalty=l2, solver=lbfgs;, score=0.564 total time=   2.0s\n",
      "[CV 5/5] END ..C=0.01, penalty=l2, solver=lbfgs;, score=0.571 total time=   2.0s\n",
      "[CV 1/5] END C=0.1, penalty=l1, solver=liblinear;, score=0.589 total time=   0.5s\n",
      "[CV 2/5] END C=0.1, penalty=l1, solver=liblinear;, score=0.602 total time=   0.5s\n",
      "[CV 3/5] END C=0.1, penalty=l1, solver=liblinear;, score=0.597 total time=   0.5s\n",
      "[CV 4/5] END C=0.1, penalty=l1, solver=liblinear;, score=0.599 total time=   0.5s\n",
      "[CV 5/5] END C=0.1, penalty=l1, solver=liblinear;, score=0.606 total time=   0.5s\n",
      "[CV 1/5] END ....C=0.1, penalty=l1, solver=saga;, score=0.691 total time=  14.7s\n",
      "[CV 2/5] END ....C=0.1, penalty=l1, solver=saga;, score=0.673 total time=  14.3s\n",
      "[CV 3/5] END ....C=0.1, penalty=l1, solver=saga;, score=0.667 total time=  14.6s\n",
      "[CV 4/5] END ....C=0.1, penalty=l1, solver=saga;, score=0.682 total time=  14.5s\n",
      "[CV 5/5] END ....C=0.1, penalty=l1, solver=saga;, score=0.689 total time=  14.5s\n",
      "[CV 1/5] END .....C=0.1, penalty=l1, solver=lbfgs;, score=nan total time=   0.0s\n",
      "[CV 2/5] END .....C=0.1, penalty=l1, solver=lbfgs;, score=nan total time=   0.0s\n",
      "[CV 3/5] END .....C=0.1, penalty=l1, solver=lbfgs;, score=nan total time=   0.0s\n",
      "[CV 4/5] END .....C=0.1, penalty=l1, solver=lbfgs;, score=nan total time=   0.0s\n",
      "[CV 5/5] END .....C=0.1, penalty=l1, solver=lbfgs;, score=nan total time=   0.0s\n",
      "[CV 1/5] END C=0.1, penalty=l2, solver=liblinear;, score=0.576 total time=   0.4s\n",
      "[CV 2/5] END C=0.1, penalty=l2, solver=liblinear;, score=0.579 total time=   0.5s\n",
      "[CV 3/5] END C=0.1, penalty=l2, solver=liblinear;, score=0.573 total time=   0.4s\n",
      "[CV 4/5] END C=0.1, penalty=l2, solver=liblinear;, score=0.572 total time=   0.4s\n",
      "[CV 5/5] END C=0.1, penalty=l2, solver=liblinear;, score=0.576 total time=   0.4s\n",
      "[CV 1/5] END ....C=0.1, penalty=l2, solver=saga;, score=0.602 total time=   3.8s\n",
      "[CV 2/5] END ....C=0.1, penalty=l2, solver=saga;, score=0.611 total time=   3.8s\n",
      "[CV 3/5] END ....C=0.1, penalty=l2, solver=saga;, score=0.608 total time=   3.7s\n",
      "[CV 4/5] END ....C=0.1, penalty=l2, solver=saga;, score=0.603 total time=   3.7s\n",
      "[CV 5/5] END ....C=0.1, penalty=l2, solver=saga;, score=0.613 total time=   3.7s\n",
      "[CV 1/5] END ...C=0.1, penalty=l2, solver=lbfgs;, score=0.602 total time=   2.5s\n",
      "[CV 2/5] END ...C=0.1, penalty=l2, solver=lbfgs;, score=0.611 total time=   2.8s\n",
      "[CV 3/5] END ...C=0.1, penalty=l2, solver=lbfgs;, score=0.608 total time=   2.9s\n",
      "[CV 4/5] END ...C=0.1, penalty=l2, solver=lbfgs;, score=0.603 total time=   3.3s\n",
      "[CV 5/5] END ...C=0.1, penalty=l2, solver=lbfgs;, score=0.613 total time=   3.1s\n",
      "[CV 1/5] END .C=1, penalty=l1, solver=liblinear;, score=0.645 total time=   1.6s\n",
      "[CV 2/5] END .C=1, penalty=l1, solver=liblinear;, score=0.648 total time=   1.6s\n",
      "[CV 3/5] END .C=1, penalty=l1, solver=liblinear;, score=0.644 total time=   1.7s\n",
      "[CV 4/5] END .C=1, penalty=l1, solver=liblinear;, score=0.645 total time=   1.7s\n",
      "[CV 5/5] END .C=1, penalty=l1, solver=liblinear;, score=0.638 total time=   1.6s\n"
     ]
    },
    {
     "name": "stderr",
     "output_type": "stream",
     "text": [
      "/home/marcus/.local/lib/python3.10/site-packages/sklearn/linear_model/_sag.py:350: ConvergenceWarning: The max_iter was reached which means the coef_ did not converge\n",
      "  warnings.warn(\n"
     ]
    },
    {
     "name": "stdout",
     "output_type": "stream",
     "text": [
      "[CV 1/5] END ......C=1, penalty=l1, solver=saga;, score=0.772 total time=  38.5s\n"
     ]
    },
    {
     "name": "stderr",
     "output_type": "stream",
     "text": [
      "/home/marcus/.local/lib/python3.10/site-packages/sklearn/linear_model/_sag.py:350: ConvergenceWarning: The max_iter was reached which means the coef_ did not converge\n",
      "  warnings.warn(\n"
     ]
    },
    {
     "name": "stdout",
     "output_type": "stream",
     "text": [
      "[CV 2/5] END ......C=1, penalty=l1, solver=saga;, score=0.777 total time=  40.0s\n"
     ]
    },
    {
     "name": "stderr",
     "output_type": "stream",
     "text": [
      "/home/marcus/.local/lib/python3.10/site-packages/sklearn/linear_model/_sag.py:350: ConvergenceWarning: The max_iter was reached which means the coef_ did not converge\n",
      "  warnings.warn(\n"
     ]
    },
    {
     "name": "stdout",
     "output_type": "stream",
     "text": [
      "[CV 3/5] END ......C=1, penalty=l1, solver=saga;, score=0.776 total time=  45.4s\n"
     ]
    },
    {
     "name": "stderr",
     "output_type": "stream",
     "text": [
      "/home/marcus/.local/lib/python3.10/site-packages/sklearn/linear_model/_sag.py:350: ConvergenceWarning: The max_iter was reached which means the coef_ did not converge\n",
      "  warnings.warn(\n"
     ]
    },
    {
     "name": "stdout",
     "output_type": "stream",
     "text": [
      "[CV 4/5] END ......C=1, penalty=l1, solver=saga;, score=0.766 total time= 1.0min\n"
     ]
    },
    {
     "name": "stderr",
     "output_type": "stream",
     "text": [
      "/home/marcus/.local/lib/python3.10/site-packages/sklearn/linear_model/_sag.py:350: ConvergenceWarning: The max_iter was reached which means the coef_ did not converge\n",
      "  warnings.warn(\n"
     ]
    },
    {
     "name": "stdout",
     "output_type": "stream",
     "text": [
      "[CV 5/5] END ......C=1, penalty=l1, solver=saga;, score=0.782 total time=  59.4s\n",
      "[CV 1/5] END .......C=1, penalty=l1, solver=lbfgs;, score=nan total time=   0.0s\n",
      "[CV 2/5] END .......C=1, penalty=l1, solver=lbfgs;, score=nan total time=   0.0s\n",
      "[CV 3/5] END .......C=1, penalty=l1, solver=lbfgs;, score=nan total time=   0.0s\n",
      "[CV 4/5] END .......C=1, penalty=l1, solver=lbfgs;, score=nan total time=   0.0s\n",
      "[CV 5/5] END .......C=1, penalty=l1, solver=lbfgs;, score=nan total time=   0.0s\n",
      "[CV 1/5] END .C=1, penalty=l2, solver=liblinear;, score=0.606 total time=   0.9s\n",
      "[CV 2/5] END .C=1, penalty=l2, solver=liblinear;, score=0.618 total time=   0.9s\n",
      "[CV 3/5] END .C=1, penalty=l2, solver=liblinear;, score=0.611 total time=   1.0s\n",
      "[CV 4/5] END .C=1, penalty=l2, solver=liblinear;, score=0.608 total time=   1.1s\n",
      "[CV 5/5] END .C=1, penalty=l2, solver=liblinear;, score=0.610 total time=   1.1s\n",
      "[CV 1/5] END ......C=1, penalty=l2, solver=saga;, score=0.696 total time=  24.0s\n",
      "[CV 2/5] END ......C=1, penalty=l2, solver=saga;, score=0.698 total time=  22.6s\n",
      "[CV 3/5] END ......C=1, penalty=l2, solver=saga;, score=0.701 total time=  23.9s\n",
      "[CV 4/5] END ......C=1, penalty=l2, solver=saga;, score=0.694 total time=  19.4s\n",
      "[CV 5/5] END ......C=1, penalty=l2, solver=saga;, score=0.693 total time=  17.4s\n",
      "[CV 1/5] END .....C=1, penalty=l2, solver=lbfgs;, score=0.696 total time=   7.6s\n",
      "[CV 2/5] END .....C=1, penalty=l2, solver=lbfgs;, score=0.698 total time=   7.7s\n",
      "[CV 3/5] END .....C=1, penalty=l2, solver=lbfgs;, score=0.703 total time=   7.3s\n",
      "[CV 4/5] END .....C=1, penalty=l2, solver=lbfgs;, score=0.695 total time=   8.0s\n",
      "[CV 5/5] END .....C=1, penalty=l2, solver=lbfgs;, score=0.694 total time=   8.4s\n",
      "[CV 1/5] END C=10, penalty=l1, solver=liblinear;, score=0.651 total time=   6.9s\n",
      "[CV 2/5] END C=10, penalty=l1, solver=liblinear;, score=0.652 total time=   6.2s\n",
      "[CV 3/5] END C=10, penalty=l1, solver=liblinear;, score=0.649 total time=   6.7s\n",
      "[CV 4/5] END C=10, penalty=l1, solver=liblinear;, score=0.647 total time=   7.2s\n",
      "[CV 5/5] END C=10, penalty=l1, solver=liblinear;, score=0.641 total time=   5.5s\n"
     ]
    },
    {
     "name": "stderr",
     "output_type": "stream",
     "text": [
      "/home/marcus/.local/lib/python3.10/site-packages/sklearn/linear_model/_sag.py:350: ConvergenceWarning: The max_iter was reached which means the coef_ did not converge\n",
      "  warnings.warn(\n"
     ]
    },
    {
     "name": "stdout",
     "output_type": "stream",
     "text": [
      "[CV 1/5] END .....C=10, penalty=l1, solver=saga;, score=0.786 total time=  38.0s\n"
     ]
    },
    {
     "name": "stderr",
     "output_type": "stream",
     "text": [
      "/home/marcus/.local/lib/python3.10/site-packages/sklearn/linear_model/_sag.py:350: ConvergenceWarning: The max_iter was reached which means the coef_ did not converge\n",
      "  warnings.warn(\n"
     ]
    },
    {
     "name": "stdout",
     "output_type": "stream",
     "text": [
      "[CV 2/5] END .....C=10, penalty=l1, solver=saga;, score=0.791 total time=  52.9s\n"
     ]
    },
    {
     "name": "stderr",
     "output_type": "stream",
     "text": [
      "/home/marcus/.local/lib/python3.10/site-packages/sklearn/linear_model/_sag.py:350: ConvergenceWarning: The max_iter was reached which means the coef_ did not converge\n",
      "  warnings.warn(\n"
     ]
    },
    {
     "name": "stdout",
     "output_type": "stream",
     "text": [
      "[CV 3/5] END .....C=10, penalty=l1, solver=saga;, score=0.794 total time=  59.5s\n"
     ]
    },
    {
     "name": "stderr",
     "output_type": "stream",
     "text": [
      "/home/marcus/.local/lib/python3.10/site-packages/sklearn/linear_model/_sag.py:350: ConvergenceWarning: The max_iter was reached which means the coef_ did not converge\n",
      "  warnings.warn(\n"
     ]
    },
    {
     "name": "stdout",
     "output_type": "stream",
     "text": [
      "[CV 4/5] END .....C=10, penalty=l1, solver=saga;, score=0.786 total time=  34.4s\n"
     ]
    },
    {
     "name": "stderr",
     "output_type": "stream",
     "text": [
      "/home/marcus/.local/lib/python3.10/site-packages/sklearn/linear_model/_sag.py:350: ConvergenceWarning: The max_iter was reached which means the coef_ did not converge\n",
      "  warnings.warn(\n"
     ]
    },
    {
     "name": "stdout",
     "output_type": "stream",
     "text": [
      "[CV 5/5] END .....C=10, penalty=l1, solver=saga;, score=0.796 total time=  33.9s\n",
      "[CV 1/5] END ......C=10, penalty=l1, solver=lbfgs;, score=nan total time=   0.0s\n",
      "[CV 2/5] END ......C=10, penalty=l1, solver=lbfgs;, score=nan total time=   0.0s\n",
      "[CV 3/5] END ......C=10, penalty=l1, solver=lbfgs;, score=nan total time=   0.0s\n",
      "[CV 4/5] END ......C=10, penalty=l1, solver=lbfgs;, score=nan total time=   0.0s\n",
      "[CV 5/5] END ......C=10, penalty=l1, solver=lbfgs;, score=nan total time=   0.0s\n",
      "[CV 1/5] END C=10, penalty=l2, solver=liblinear;, score=0.644 total time=   0.6s\n",
      "[CV 2/5] END C=10, penalty=l2, solver=liblinear;, score=0.646 total time=   0.6s\n",
      "[CV 3/5] END C=10, penalty=l2, solver=liblinear;, score=0.641 total time=   0.6s\n",
      "[CV 4/5] END C=10, penalty=l2, solver=liblinear;, score=0.637 total time=   0.6s\n",
      "[CV 5/5] END C=10, penalty=l2, solver=liblinear;, score=0.636 total time=   0.6s\n"
     ]
    },
    {
     "name": "stderr",
     "output_type": "stream",
     "text": [
      "/home/marcus/.local/lib/python3.10/site-packages/sklearn/linear_model/_sag.py:350: ConvergenceWarning: The max_iter was reached which means the coef_ did not converge\n",
      "  warnings.warn(\n"
     ]
    },
    {
     "name": "stdout",
     "output_type": "stream",
     "text": [
      "[CV 1/5] END .....C=10, penalty=l2, solver=saga;, score=0.775 total time=  26.1s\n"
     ]
    },
    {
     "name": "stderr",
     "output_type": "stream",
     "text": [
      "/home/marcus/.local/lib/python3.10/site-packages/sklearn/linear_model/_sag.py:350: ConvergenceWarning: The max_iter was reached which means the coef_ did not converge\n",
      "  warnings.warn(\n"
     ]
    },
    {
     "name": "stdout",
     "output_type": "stream",
     "text": [
      "[CV 2/5] END .....C=10, penalty=l2, solver=saga;, score=0.777 total time=  26.0s\n"
     ]
    },
    {
     "name": "stderr",
     "output_type": "stream",
     "text": [
      "/home/marcus/.local/lib/python3.10/site-packages/sklearn/linear_model/_sag.py:350: ConvergenceWarning: The max_iter was reached which means the coef_ did not converge\n",
      "  warnings.warn(\n"
     ]
    },
    {
     "name": "stdout",
     "output_type": "stream",
     "text": [
      "[CV 3/5] END .....C=10, penalty=l2, solver=saga;, score=0.775 total time=  25.7s\n"
     ]
    },
    {
     "name": "stderr",
     "output_type": "stream",
     "text": [
      "/home/marcus/.local/lib/python3.10/site-packages/sklearn/linear_model/_sag.py:350: ConvergenceWarning: The max_iter was reached which means the coef_ did not converge\n",
      "  warnings.warn(\n"
     ]
    },
    {
     "name": "stdout",
     "output_type": "stream",
     "text": [
      "[CV 4/5] END .....C=10, penalty=l2, solver=saga;, score=0.764 total time=  25.7s\n"
     ]
    },
    {
     "name": "stderr",
     "output_type": "stream",
     "text": [
      "/home/marcus/.local/lib/python3.10/site-packages/sklearn/linear_model/_sag.py:350: ConvergenceWarning: The max_iter was reached which means the coef_ did not converge\n",
      "  warnings.warn(\n"
     ]
    },
    {
     "name": "stdout",
     "output_type": "stream",
     "text": [
      "[CV 5/5] END .....C=10, penalty=l2, solver=saga;, score=0.782 total time=  25.6s\n",
      "[CV 1/5] END ....C=10, penalty=l2, solver=lbfgs;, score=0.784 total time=   8.6s\n",
      "[CV 2/5] END ....C=10, penalty=l2, solver=lbfgs;, score=0.786 total time=   9.4s\n",
      "[CV 3/5] END ....C=10, penalty=l2, solver=lbfgs;, score=0.786 total time=   8.8s\n",
      "[CV 4/5] END ....C=10, penalty=l2, solver=lbfgs;, score=0.777 total time=   8.5s\n",
      "[CV 5/5] END ....C=10, penalty=l2, solver=lbfgs;, score=0.791 total time=   8.7s\n"
     ]
    },
    {
     "name": "stderr",
     "output_type": "stream",
     "text": [
      "/home/marcus/.local/lib/python3.10/site-packages/sklearn/model_selection/_validation.py:425: FitFailedWarning: \n",
      "20 fits failed out of a total of 120.\n",
      "The score on these train-test partitions for these parameters will be set to nan.\n",
      "If these failures are not expected, you can try to debug them by setting error_score='raise'.\n",
      "\n",
      "Below are more details about the failures:\n",
      "--------------------------------------------------------------------------------\n",
      "20 fits failed with the following error:\n",
      "Traceback (most recent call last):\n",
      "  File \"/home/marcus/.local/lib/python3.10/site-packages/sklearn/model_selection/_validation.py\", line 729, in _fit_and_score\n",
      "    estimator.fit(X_train, y_train, **fit_params)\n",
      "  File \"/home/marcus/.local/lib/python3.10/site-packages/sklearn/base.py\", line 1152, in wrapper\n",
      "    return fit_method(estimator, *args, **kwargs)\n",
      "  File \"/home/marcus/.local/lib/python3.10/site-packages/sklearn/linear_model/_logistic.py\", line 1169, in fit\n",
      "    solver = _check_solver(self.solver, self.penalty, self.dual)\n",
      "  File \"/home/marcus/.local/lib/python3.10/site-packages/sklearn/linear_model/_logistic.py\", line 56, in _check_solver\n",
      "    raise ValueError(\n",
      "ValueError: Solver lbfgs supports only 'l2' or 'none' penalties, got l1 penalty.\n",
      "\n",
      "  warnings.warn(some_fits_failed_message, FitFailedWarning)\n",
      "/home/marcus/.local/lib/python3.10/site-packages/sklearn/model_selection/_search.py:979: UserWarning: One or more of the test scores are non-finite: [0.563875 0.563125      nan 0.56625  0.568    0.568    0.5985   0.68075\n",
      "      nan 0.575125 0.607    0.607    0.644    0.77475       nan 0.6105\n",
      " 0.696375 0.69725  0.648    0.790625      nan 0.6405   0.774625 0.784875]\n",
      "  warnings.warn(\n",
      "/home/marcus/.local/lib/python3.10/site-packages/sklearn/linear_model/_sag.py:350: ConvergenceWarning: The max_iter was reached which means the coef_ did not converge\n",
      "  warnings.warn(\n"
     ]
    },
    {
     "data": {
      "text/html": [
       "<style>#sk-container-id-1 {color: black;}#sk-container-id-1 pre{padding: 0;}#sk-container-id-1 div.sk-toggleable {background-color: white;}#sk-container-id-1 label.sk-toggleable__label {cursor: pointer;display: block;width: 100%;margin-bottom: 0;padding: 0.3em;box-sizing: border-box;text-align: center;}#sk-container-id-1 label.sk-toggleable__label-arrow:before {content: \"▸\";float: left;margin-right: 0.25em;color: #696969;}#sk-container-id-1 label.sk-toggleable__label-arrow:hover:before {color: black;}#sk-container-id-1 div.sk-estimator:hover label.sk-toggleable__label-arrow:before {color: black;}#sk-container-id-1 div.sk-toggleable__content {max-height: 0;max-width: 0;overflow: hidden;text-align: left;background-color: #f0f8ff;}#sk-container-id-1 div.sk-toggleable__content pre {margin: 0.2em;color: black;border-radius: 0.25em;background-color: #f0f8ff;}#sk-container-id-1 input.sk-toggleable__control:checked~div.sk-toggleable__content {max-height: 200px;max-width: 100%;overflow: auto;}#sk-container-id-1 input.sk-toggleable__control:checked~label.sk-toggleable__label-arrow:before {content: \"▾\";}#sk-container-id-1 div.sk-estimator input.sk-toggleable__control:checked~label.sk-toggleable__label {background-color: #d4ebff;}#sk-container-id-1 div.sk-label input.sk-toggleable__control:checked~label.sk-toggleable__label {background-color: #d4ebff;}#sk-container-id-1 input.sk-hidden--visually {border: 0;clip: rect(1px 1px 1px 1px);clip: rect(1px, 1px, 1px, 1px);height: 1px;margin: -1px;overflow: hidden;padding: 0;position: absolute;width: 1px;}#sk-container-id-1 div.sk-estimator {font-family: monospace;background-color: #f0f8ff;border: 1px dotted black;border-radius: 0.25em;box-sizing: border-box;margin-bottom: 0.5em;}#sk-container-id-1 div.sk-estimator:hover {background-color: #d4ebff;}#sk-container-id-1 div.sk-parallel-item::after {content: \"\";width: 100%;border-bottom: 1px solid gray;flex-grow: 1;}#sk-container-id-1 div.sk-label:hover label.sk-toggleable__label {background-color: #d4ebff;}#sk-container-id-1 div.sk-serial::before {content: \"\";position: absolute;border-left: 1px solid gray;box-sizing: border-box;top: 0;bottom: 0;left: 50%;z-index: 0;}#sk-container-id-1 div.sk-serial {display: flex;flex-direction: column;align-items: center;background-color: white;padding-right: 0.2em;padding-left: 0.2em;position: relative;}#sk-container-id-1 div.sk-item {position: relative;z-index: 1;}#sk-container-id-1 div.sk-parallel {display: flex;align-items: stretch;justify-content: center;background-color: white;position: relative;}#sk-container-id-1 div.sk-item::before, #sk-container-id-1 div.sk-parallel-item::before {content: \"\";position: absolute;border-left: 1px solid gray;box-sizing: border-box;top: 0;bottom: 0;left: 50%;z-index: -1;}#sk-container-id-1 div.sk-parallel-item {display: flex;flex-direction: column;z-index: 1;position: relative;background-color: white;}#sk-container-id-1 div.sk-parallel-item:first-child::after {align-self: flex-end;width: 50%;}#sk-container-id-1 div.sk-parallel-item:last-child::after {align-self: flex-start;width: 50%;}#sk-container-id-1 div.sk-parallel-item:only-child::after {width: 0;}#sk-container-id-1 div.sk-dashed-wrapped {border: 1px dashed gray;margin: 0 0.4em 0.5em 0.4em;box-sizing: border-box;padding-bottom: 0.4em;background-color: white;}#sk-container-id-1 div.sk-label label {font-family: monospace;font-weight: bold;display: inline-block;line-height: 1.2em;}#sk-container-id-1 div.sk-label-container {text-align: center;}#sk-container-id-1 div.sk-container {/* jupyter's `normalize.less` sets `[hidden] { display: none; }` but bootstrap.min.css set `[hidden] { display: none !important; }` so we also need the `!important` here to be able to override the default hidden behavior on the sphinx rendered scikit-learn.org. See: https://github.com/scikit-learn/scikit-learn/issues/21755 */display: inline-block !important;position: relative;}#sk-container-id-1 div.sk-text-repr-fallback {display: none;}</style><div id=\"sk-container-id-1\" class=\"sk-top-container\"><div class=\"sk-text-repr-fallback\"><pre>GridSearchCV(estimator=LogisticRegression(max_iter=1000),\n",
       "             param_grid={&#x27;C&#x27;: [0.01, 0.1, 1, 10], &#x27;penalty&#x27;: [&#x27;l1&#x27;, &#x27;l2&#x27;],\n",
       "                         &#x27;solver&#x27;: [&#x27;liblinear&#x27;, &#x27;saga&#x27;, &#x27;lbfgs&#x27;]},\n",
       "             verbose=3)</pre><b>In a Jupyter environment, please rerun this cell to show the HTML representation or trust the notebook. <br />On GitHub, the HTML representation is unable to render, please try loading this page with nbviewer.org.</b></div><div class=\"sk-container\" hidden><div class=\"sk-item sk-dashed-wrapped\"><div class=\"sk-label-container\"><div class=\"sk-label sk-toggleable\"><input class=\"sk-toggleable__control sk-hidden--visually\" id=\"sk-estimator-id-1\" type=\"checkbox\" ><label for=\"sk-estimator-id-1\" class=\"sk-toggleable__label sk-toggleable__label-arrow\">GridSearchCV</label><div class=\"sk-toggleable__content\"><pre>GridSearchCV(estimator=LogisticRegression(max_iter=1000),\n",
       "             param_grid={&#x27;C&#x27;: [0.01, 0.1, 1, 10], &#x27;penalty&#x27;: [&#x27;l1&#x27;, &#x27;l2&#x27;],\n",
       "                         &#x27;solver&#x27;: [&#x27;liblinear&#x27;, &#x27;saga&#x27;, &#x27;lbfgs&#x27;]},\n",
       "             verbose=3)</pre></div></div></div><div class=\"sk-parallel\"><div class=\"sk-parallel-item\"><div class=\"sk-item\"><div class=\"sk-label-container\"><div class=\"sk-label sk-toggleable\"><input class=\"sk-toggleable__control sk-hidden--visually\" id=\"sk-estimator-id-2\" type=\"checkbox\" ><label for=\"sk-estimator-id-2\" class=\"sk-toggleable__label sk-toggleable__label-arrow\">estimator: LogisticRegression</label><div class=\"sk-toggleable__content\"><pre>LogisticRegression(max_iter=1000)</pre></div></div></div><div class=\"sk-serial\"><div class=\"sk-item\"><div class=\"sk-estimator sk-toggleable\"><input class=\"sk-toggleable__control sk-hidden--visually\" id=\"sk-estimator-id-3\" type=\"checkbox\" ><label for=\"sk-estimator-id-3\" class=\"sk-toggleable__label sk-toggleable__label-arrow\">LogisticRegression</label><div class=\"sk-toggleable__content\"><pre>LogisticRegression(max_iter=1000)</pre></div></div></div></div></div></div></div></div></div></div>"
      ],
      "text/plain": [
       "GridSearchCV(estimator=LogisticRegression(max_iter=1000),\n",
       "             param_grid={'C': [0.01, 0.1, 1, 10], 'penalty': ['l1', 'l2'],\n",
       "                         'solver': ['liblinear', 'saga', 'lbfgs']},\n",
       "             verbose=3)"
      ]
     },
     "execution_count": 3,
     "metadata": {},
     "output_type": "execute_result"
    }
   ],
   "source": [
    "logistic = LogisticRegression(max_iter=1000)\n",
    "grid = GridSearchCV(logistic, param_grid, refit=True, verbose=3)\n",
    "grid.fit(X_train_scaled, y_train)"
   ]
  },
  {
   "cell_type": "code",
   "execution_count": 4,
   "id": "a60104dc",
   "metadata": {},
   "outputs": [
    {
     "name": "stdout",
     "output_type": "stream",
     "text": [
      "Лучшие гиперпараметры логистической регрессии: {'C': 10, 'penalty': 'l1', 'solver': 'saga'}\n",
      "Точность модели логистической регрессии: 0.804\n",
      "Точность модели линейной регрессии: 1.0\n",
      "\n",
      "Отчет по классификации:\n",
      "              precision    recall  f1-score   support\n",
      "\n",
      "           0       1.00      1.00      1.00       971\n",
      "           6       0.80      1.00      0.89         8\n",
      "           8       0.00      0.00      0.00         1\n",
      "          10       0.00      0.00      0.00         1\n",
      "          12       0.00      0.00      0.00         1\n",
      "          13       0.00      0.00      0.00         6\n",
      "          14       0.50      0.40      0.44        10\n",
      "          16       0.25      0.08      0.12        13\n",
      "          17       0.00      0.00      0.00         5\n",
      "          18       0.36      0.44      0.40        18\n",
      "          19       0.65      0.89      0.75        36\n",
      "          20       0.00      0.00      0.00        10\n",
      "          21       0.54      0.87      0.67        39\n",
      "          22       0.00      0.00      0.00         6\n",
      "          23       0.00      0.00      0.00         1\n",
      "          25       0.43      0.66      0.52        38\n",
      "          26       0.00      0.00      0.00        11\n",
      "          27       0.00      0.00      0.00         1\n",
      "          28       0.00      0.00      0.00         2\n",
      "          30       0.43      0.32      0.36        19\n",
      "          32       0.47      0.86      0.61        42\n",
      "          33       0.00      0.00      0.00        14\n",
      "          34       0.00      0.00      0.00         3\n",
      "          35       0.00      0.00      0.00        19\n",
      "          37       0.00      0.00      0.00         4\n",
      "          38       0.79      0.75      0.77        20\n",
      "          39       0.33      0.67      0.44         3\n",
      "          41       0.00      0.00      0.00         1\n",
      "          42       0.47      0.45      0.46        20\n",
      "          47       0.00      0.00      0.00        12\n",
      "          53       0.73      1.00      0.84        24\n",
      "          58       0.00      0.00      0.00         1\n",
      "          62       0.00      0.00      0.00         1\n",
      "          68       0.00      0.00      0.00         2\n",
      "          72       0.00      0.00      0.00         7\n",
      "          73       1.00      1.00      1.00         9\n",
      "          75       0.79      1.00      0.88        23\n",
      "          76       0.00      0.00      0.00         3\n",
      "          81       0.00      0.00      0.00         2\n",
      "          82       0.00      0.00      0.00         3\n",
      "          83       0.00      0.00      0.00         7\n",
      "          84       0.53      0.93      0.68        59\n",
      "          87       0.00      0.00      0.00         7\n",
      "          93       1.00      1.00      1.00        10\n",
      "          97       0.00      0.00      0.00         3\n",
      "         107       0.00      0.00      0.00        13\n",
      "         110       0.00      0.00      0.00         2\n",
      "         114       0.00      0.00      0.00         1\n",
      "         124       0.00      0.00      0.00         1\n",
      "         125       0.00      0.00      0.00         6\n",
      "         126       0.00      0.00      0.00         2\n",
      "         149       0.50      0.40      0.44         5\n",
      "         150       0.60      0.94      0.73        16\n",
      "         151       0.89      1.00      0.94        16\n",
      "         153       0.00      0.00      0.00         1\n",
      "         170       0.00      0.00      0.00         0\n",
      "         192       0.00      0.00      0.00         1\n",
      "         200       0.00      0.00      0.00        15\n",
      "         203       0.00      0.00      0.00         1\n",
      "         204       0.00      0.00      0.00         5\n",
      "         208       0.91      0.89      0.90        36\n",
      "         210       0.50      0.62      0.56        24\n",
      "         215       0.89      0.97      0.93        93\n",
      "         218       0.00      0.00      0.00         1\n",
      "         220       0.70      1.00      0.83        59\n",
      "         222       0.00      0.00      0.00         2\n",
      "         233       0.00      0.00      0.00         3\n",
      "         238       0.55      0.70      0.61        43\n",
      "         239       1.00      0.09      0.17        11\n",
      "         245       1.00      1.00      1.00         1\n",
      "         249       0.00      0.00      0.00        14\n",
      "         258       0.00      0.00      0.00         5\n",
      "         259       0.35      0.38      0.36        16\n",
      "         265       0.00      0.00      0.00         1\n",
      "         266       0.44      0.75      0.56        20\n",
      "         270       0.00      0.00      0.00         3\n",
      "         289       0.50      0.08      0.13        13\n",
      "         291       0.69      0.97      0.81        32\n",
      "         293       0.00      0.00      0.00         7\n",
      "         308       0.00      0.00      0.00         7\n",
      "         322       0.67      1.00      0.80        22\n",
      "         330       0.00      0.00      0.00         6\n",
      "\n",
      "    accuracy                           0.80      2000\n",
      "   macro avg       0.26      0.29      0.26      2000\n",
      "weighted avg       0.74      0.80      0.76      2000\n",
      "\n"
     ]
    },
    {
     "name": "stderr",
     "output_type": "stream",
     "text": [
      "/home/marcus/.local/lib/python3.10/site-packages/sklearn/metrics/_classification.py:1471: UndefinedMetricWarning: Precision and F-score are ill-defined and being set to 0.0 in labels with no predicted samples. Use `zero_division` parameter to control this behavior.\n",
      "  _warn_prf(average, modifier, msg_start, len(result))\n",
      "/home/marcus/.local/lib/python3.10/site-packages/sklearn/metrics/_classification.py:1471: UndefinedMetricWarning: Recall and F-score are ill-defined and being set to 0.0 in labels with no true samples. Use `zero_division` parameter to control this behavior.\n",
      "  _warn_prf(average, modifier, msg_start, len(result))\n",
      "/home/marcus/.local/lib/python3.10/site-packages/sklearn/metrics/_classification.py:1471: UndefinedMetricWarning: Precision and F-score are ill-defined and being set to 0.0 in labels with no predicted samples. Use `zero_division` parameter to control this behavior.\n",
      "  _warn_prf(average, modifier, msg_start, len(result))\n",
      "/home/marcus/.local/lib/python3.10/site-packages/sklearn/metrics/_classification.py:1471: UndefinedMetricWarning: Recall and F-score are ill-defined and being set to 0.0 in labels with no true samples. Use `zero_division` parameter to control this behavior.\n",
      "  _warn_prf(average, modifier, msg_start, len(result))\n",
      "/home/marcus/.local/lib/python3.10/site-packages/sklearn/metrics/_classification.py:1471: UndefinedMetricWarning: Precision and F-score are ill-defined and being set to 0.0 in labels with no predicted samples. Use `zero_division` parameter to control this behavior.\n",
      "  _warn_prf(average, modifier, msg_start, len(result))\n",
      "/home/marcus/.local/lib/python3.10/site-packages/sklearn/metrics/_classification.py:1471: UndefinedMetricWarning: Recall and F-score are ill-defined and being set to 0.0 in labels with no true samples. Use `zero_division` parameter to control this behavior.\n",
      "  _warn_prf(average, modifier, msg_start, len(result))\n"
     ]
    }
   ],
   "source": [
    "# Оценка производительности модели логистической регрессии на тестовом наборе\n",
    "best_logistic = grid.best_estimator_\n",
    "logistic_accuracy = best_logistic.score(X_test_scaled, y_test)\n",
    "print(f\"Лучшие гиперпараметры логистической регрессии: {grid.best_params_}\")\n",
    "print(f\"Точность модели логистической регрессии: {logistic_accuracy}\")\n",
    "print(f\"Точность модели линейной регрессии: {linear_accuracy}\")\n",
    "\n",
    "# Предсказания на тестовой выборке с использованием лучшей модели\n",
    "predictions = best_logistic.predict(X_test_scaled)\n",
    "# Отчет по классификации\n",
    "print(\"\\nОтчет по классификации:\")\n",
    "print(classification_report(y_test, predictions))"
   ]
  },
  {
   "cell_type": "code",
   "execution_count": null,
   "id": "6e69f09e",
   "metadata": {},
   "outputs": [],
   "source": []
  }
 ],
 "metadata": {
  "kernelspec": {
   "display_name": "Python 3 (ipykernel)",
   "language": "python",
   "name": "python3"
  },
  "language_info": {
   "codemirror_mode": {
    "name": "ipython",
    "version": 3
   },
   "file_extension": ".py",
   "mimetype": "text/x-python",
   "name": "python",
   "nbconvert_exporter": "python",
   "pygments_lexer": "ipython3",
   "version": "3.10.12"
  }
 },
 "nbformat": 4,
 "nbformat_minor": 5
}
