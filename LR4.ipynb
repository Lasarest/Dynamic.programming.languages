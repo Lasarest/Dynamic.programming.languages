{
 "cells": [
  {
   "cell_type": "markdown",
   "id": "f3429974",
   "metadata": {},
   "source": [
    "## Метод наивного Байеса\n",
    "\n",
    "### Лабораторная работа №4\n",
    "\n",
    "#### Задание 1\n",
    "Провести классификацию найденного датасета, методами наивного Байеса. В формате Markdown написать пояснения. Объяснить почему были выбраны именно такие гиперпараметры, была ли перекрестная проверка, и т.д.\n"
   ]
  },
  {
   "cell_type": "code",
   "execution_count": 1,
   "id": "3caa9f50",
   "metadata": {},
   "outputs": [
    {
     "name": "stdout",
     "output_type": "stream",
     "text": [
      "Точность модели наивного Байеса: 0.8746739574494831\n",
      "\n",
      "Отчет по классификации:\n",
      "              precision    recall  f1-score   support\n",
      "\n",
      "           0       0.88      0.98      0.92     24808\n",
      "           1       0.86      0.52      0.64      7013\n",
      "\n",
      "    accuracy                           0.87     31821\n",
      "   macro avg       0.87      0.75      0.78     31821\n",
      "weighted avg       0.87      0.87      0.86     31821\n",
      "\n"
     ]
    }
   ],
   "source": [
    "from sklearn.model_selection import train_test_split, GridSearchCV\n",
    "from sklearn.naive_bayes import GaussianNB\n",
    "from sklearn.preprocessing import StandardScaler, LabelEncoder\n",
    "from sklearn.metrics import accuracy_score, classification_report\n",
    "import pandas as pd\n",
    "\n",
    "# Загрузка данных\n",
    "file_path = \"Electric_Vehicle_Population_Data.csv\"\n",
    "df = pd.read_csv(file_path)\n",
    "df.dropna(inplace=True)\n",
    "label_encoder = LabelEncoder()\n",
    "df['Electric Vehicle Type'] = label_encoder.fit_transform(df['Electric Vehicle Type'])\n",
    "\n",
    "# Разделение на признаки (X) и целевую переменную (y)\n",
    "X = df[['Postal Code', 'Model Year', 'Electric Range', 'Base MSRP', 'Legislative District', 'DOL Vehicle ID', '2020 Census Tract']]\n",
    "y = df['Electric Vehicle Type']\n",
    "\n",
    "# Разделение данных на тренировочный и тестовый наборы\n",
    "# random_state=42 - гарантирует, что данные каждый раз будут одинакого разбиваться\n",
    "X_train, X_test, y_train, y_test = train_test_split(X, y, test_size=0.2, random_state=42)\n",
    "\n",
    "# Масштабирование признаков (нормализация)\n",
    "scaler = StandardScaler()\n",
    "X_train_scaled = scaler.fit_transform(X_train)\n",
    "X_test_scaled = scaler.transform(X_test)\n",
    "\n",
    "# Делаю через гаусовское распределение, поэтому нет гиперпараметров и, следовательно, не нужна перекрёстная проверка\n",
    "naive_bayes = GaussianNB()\n",
    "naive_bayes.fit(X_train_scaled, y_train)\n",
    "\n",
    "# Оценка производительности модели на тестовом наборе\n",
    "y_pred = naive_bayes.predict(X_test_scaled)\n",
    "accuracy = accuracy_score(y_test, y_pred)\n",
    "print(f\"Точность модели наивного Байеса: {accuracy}\")\n",
    "\n",
    "# Отчет по классификации\n",
    "print(\"\\nОтчет по классификации:\")\n",
    "print(classification_report(y_test, y_pred))"
   ]
  }
 ],
 "metadata": {
  "kernelspec": {
   "display_name": "Python 3 (ipykernel)",
   "language": "python",
   "name": "python3"
  },
  "language_info": {
   "codemirror_mode": {
    "name": "ipython",
    "version": 3
   },
   "file_extension": ".py",
   "mimetype": "text/x-python",
   "name": "python",
   "nbconvert_exporter": "python",
   "pygments_lexer": "ipython3",
   "version": "3.10.12"
  }
 },
 "nbformat": 4,
 "nbformat_minor": 5
}
